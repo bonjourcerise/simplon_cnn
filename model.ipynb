{
 "cells": [
  {
   "cell_type": "markdown",
   "id": "145b45cf",
   "metadata": {},
   "source": [
    "# Contexte du projet"
   ]
  },
  {
   "cell_type": "markdown",
   "id": "924b8cbd",
   "metadata": {},
   "source": [
    "Vous travaillez dans une startup edtech qui offre des services de vulgarisation de l'IA. Votre client\n",
    "souhaite avoir un outil de démo pour expliquer comment ça fonctionne un réseau de neurones.\n",
    " \n",
    "<b>1.</b>\n",
    "Votre premier objectif est de créer un modèle de deep learning pour classifier des chiffres.\n",
    "\n",
    "<b>2.</b>\n",
    "Ensuite, vous devez développer l'interface utilisateur (avec streamlit) qui vous permet de\n",
    "déssiner un chiffre (ou choisir aléatoirement un numéro d'un dataset d'images) et de détecter s'il\n",
    "correspond à une chiffre entre 0 & 9.\n",
    "\n",
    "source image : https://www.mdpi.com/2076-3417/9/15/3169\n",
    " \n",
    "Pour l'interface utilisateur, votre première version streamlit doit être capable de montrer une\n",
    "image aléatoire du dataset test. Ensuite, grâce à un bouton \"predict\", votre modèle peut prédire\n",
    "le bon nombre et afficher le résultat dans l'interface. À la fin, l'interface doit vous permettre avec\n",
    "un bouton de valider si votre modèle a correctement classé l'image ou non.\n",
    " \n",
    "Dans un deuxièmet temps, vous pouvez faire évoluer votre interface comme un jeu. Dans cette\n",
    "deuxième version, l'interface doit vous permettre de dessiner un nombre et le transformer en\n",
    "image. Cette image va ensuite être utilisée par le modèle pour prédire le bon nombre et afficher\n",
    "le résultat. L'idée derrière est de donner 10 opportunités à votre modèle de détecter le chiffre\n",
    "dessiné et donner des stats à la fin par rapport à sa performance de prédiction.\n",
    " \n",
    "Vous pouvez vous insprer de cette interface pour faire évoluer votre démo :\n",
    "https://www.cs.ryerson.ca/~aharley/vis/conv/flat.html"
   ]
  },
  {
   "cell_type": "markdown",
   "id": "ce5bf697",
   "metadata": {},
   "source": [
    "# Import"
   ]
  },
  {
   "cell_type": "code",
   "execution_count": 1,
   "id": "f179fbf6",
   "metadata": {},
   "outputs": [],
   "source": [
    "# classic\n",
    "import pandas as pd\n",
    "import numpy as np\n",
    "\n",
    "# visu\n",
    "import seaborn as sns\n",
    "import matplotlib.pyplot as plt\n",
    "import matplotlib.image as img\n",
    "%matplotlib inline\n",
    "\n",
    "# tensorflow\n",
    "import tensorflow as tf\n",
    "from tensorflow.keras.models import Sequential\n",
    "from tensorflow.keras.preprocessing.image import ImageDataGenerator\n",
    "from keras.layers import Dense, Conv2D, Dropout, Flatten, MaxPooling2D\n",
    "from keras.callbacks import EarlyStopping\n",
    "from keras.utils.np_utils import to_categorical\n",
    "from tensorflow.keras.utils import plot_model\n",
    "from keras.preprocessing.image import ImageDataGenerator\n",
    "from tensorflow.keras import layers\n",
    "\n",
    "# RAdam\n",
    "from keras_radam import RAdam\n",
    "\n",
    "# sklearn\n",
    "from sklearn.model_selection import train_test_split\n",
    "from sklearn.metrics import confusion_matrix\n",
    "from sklearn.metrics import classification_report"
   ]
  },
  {
   "cell_type": "markdown",
   "id": "4e449a84",
   "metadata": {},
   "source": [
    "# Data"
   ]
  },
  {
   "cell_type": "markdown",
   "id": "2e21c7bd",
   "metadata": {},
   "source": [
    "<b>Les données</b><br><br>\n",
    "Import des données de training (train, avec la target 'label' qui contient les chiffres à reconnaître de 0 à 9) et des données de test.<br>\n",
    "\n",
    "Le train_data contient 42 000 lignes et 785 colonnes<br>\n",
    "Le train_test contient 28 000 lignes et 784 colonnes<br>\n",
    "\n",
    "Chaque image a une taille de 28 x 28 px. Il n'y a aucun valeurs manquantes ou null."
   ]
  },
  {
   "cell_type": "code",
   "execution_count": 2,
   "id": "0cf7f12e",
   "metadata": {},
   "outputs": [],
   "source": [
    "# import csv\n",
    "train_data = pd.read_csv(\"data/train.csv\")\n",
    "test_data = pd.read_csv(\"data/test.csv\")"
   ]
  },
  {
   "cell_type": "code",
   "execution_count": 3,
   "id": "9f25281b",
   "metadata": {},
   "outputs": [
    {
     "data": {
      "text/html": [
       "<div>\n",
       "<style scoped>\n",
       "    .dataframe tbody tr th:only-of-type {\n",
       "        vertical-align: middle;\n",
       "    }\n",
       "\n",
       "    .dataframe tbody tr th {\n",
       "        vertical-align: top;\n",
       "    }\n",
       "\n",
       "    .dataframe thead th {\n",
       "        text-align: right;\n",
       "    }\n",
       "</style>\n",
       "<table border=\"1\" class=\"dataframe\">\n",
       "  <thead>\n",
       "    <tr style=\"text-align: right;\">\n",
       "      <th></th>\n",
       "      <th>label</th>\n",
       "      <th>pixel0</th>\n",
       "      <th>pixel1</th>\n",
       "      <th>pixel2</th>\n",
       "      <th>pixel3</th>\n",
       "      <th>pixel4</th>\n",
       "      <th>pixel5</th>\n",
       "      <th>pixel6</th>\n",
       "      <th>pixel7</th>\n",
       "      <th>pixel8</th>\n",
       "      <th>...</th>\n",
       "      <th>pixel774</th>\n",
       "      <th>pixel775</th>\n",
       "      <th>pixel776</th>\n",
       "      <th>pixel777</th>\n",
       "      <th>pixel778</th>\n",
       "      <th>pixel779</th>\n",
       "      <th>pixel780</th>\n",
       "      <th>pixel781</th>\n",
       "      <th>pixel782</th>\n",
       "      <th>pixel783</th>\n",
       "    </tr>\n",
       "  </thead>\n",
       "  <tbody>\n",
       "    <tr>\n",
       "      <th>0</th>\n",
       "      <td>1</td>\n",
       "      <td>0</td>\n",
       "      <td>0</td>\n",
       "      <td>0</td>\n",
       "      <td>0</td>\n",
       "      <td>0</td>\n",
       "      <td>0</td>\n",
       "      <td>0</td>\n",
       "      <td>0</td>\n",
       "      <td>0</td>\n",
       "      <td>...</td>\n",
       "      <td>0</td>\n",
       "      <td>0</td>\n",
       "      <td>0</td>\n",
       "      <td>0</td>\n",
       "      <td>0</td>\n",
       "      <td>0</td>\n",
       "      <td>0</td>\n",
       "      <td>0</td>\n",
       "      <td>0</td>\n",
       "      <td>0</td>\n",
       "    </tr>\n",
       "    <tr>\n",
       "      <th>1</th>\n",
       "      <td>0</td>\n",
       "      <td>0</td>\n",
       "      <td>0</td>\n",
       "      <td>0</td>\n",
       "      <td>0</td>\n",
       "      <td>0</td>\n",
       "      <td>0</td>\n",
       "      <td>0</td>\n",
       "      <td>0</td>\n",
       "      <td>0</td>\n",
       "      <td>...</td>\n",
       "      <td>0</td>\n",
       "      <td>0</td>\n",
       "      <td>0</td>\n",
       "      <td>0</td>\n",
       "      <td>0</td>\n",
       "      <td>0</td>\n",
       "      <td>0</td>\n",
       "      <td>0</td>\n",
       "      <td>0</td>\n",
       "      <td>0</td>\n",
       "    </tr>\n",
       "    <tr>\n",
       "      <th>2</th>\n",
       "      <td>1</td>\n",
       "      <td>0</td>\n",
       "      <td>0</td>\n",
       "      <td>0</td>\n",
       "      <td>0</td>\n",
       "      <td>0</td>\n",
       "      <td>0</td>\n",
       "      <td>0</td>\n",
       "      <td>0</td>\n",
       "      <td>0</td>\n",
       "      <td>...</td>\n",
       "      <td>0</td>\n",
       "      <td>0</td>\n",
       "      <td>0</td>\n",
       "      <td>0</td>\n",
       "      <td>0</td>\n",
       "      <td>0</td>\n",
       "      <td>0</td>\n",
       "      <td>0</td>\n",
       "      <td>0</td>\n",
       "      <td>0</td>\n",
       "    </tr>\n",
       "    <tr>\n",
       "      <th>3</th>\n",
       "      <td>4</td>\n",
       "      <td>0</td>\n",
       "      <td>0</td>\n",
       "      <td>0</td>\n",
       "      <td>0</td>\n",
       "      <td>0</td>\n",
       "      <td>0</td>\n",
       "      <td>0</td>\n",
       "      <td>0</td>\n",
       "      <td>0</td>\n",
       "      <td>...</td>\n",
       "      <td>0</td>\n",
       "      <td>0</td>\n",
       "      <td>0</td>\n",
       "      <td>0</td>\n",
       "      <td>0</td>\n",
       "      <td>0</td>\n",
       "      <td>0</td>\n",
       "      <td>0</td>\n",
       "      <td>0</td>\n",
       "      <td>0</td>\n",
       "    </tr>\n",
       "    <tr>\n",
       "      <th>4</th>\n",
       "      <td>0</td>\n",
       "      <td>0</td>\n",
       "      <td>0</td>\n",
       "      <td>0</td>\n",
       "      <td>0</td>\n",
       "      <td>0</td>\n",
       "      <td>0</td>\n",
       "      <td>0</td>\n",
       "      <td>0</td>\n",
       "      <td>0</td>\n",
       "      <td>...</td>\n",
       "      <td>0</td>\n",
       "      <td>0</td>\n",
       "      <td>0</td>\n",
       "      <td>0</td>\n",
       "      <td>0</td>\n",
       "      <td>0</td>\n",
       "      <td>0</td>\n",
       "      <td>0</td>\n",
       "      <td>0</td>\n",
       "      <td>0</td>\n",
       "    </tr>\n",
       "  </tbody>\n",
       "</table>\n",
       "<p>5 rows × 785 columns</p>\n",
       "</div>"
      ],
      "text/plain": [
       "   label  pixel0  pixel1  pixel2  pixel3  pixel4  pixel5  pixel6  pixel7  \\\n",
       "0      1       0       0       0       0       0       0       0       0   \n",
       "1      0       0       0       0       0       0       0       0       0   \n",
       "2      1       0       0       0       0       0       0       0       0   \n",
       "3      4       0       0       0       0       0       0       0       0   \n",
       "4      0       0       0       0       0       0       0       0       0   \n",
       "\n",
       "   pixel8  ...  pixel774  pixel775  pixel776  pixel777  pixel778  pixel779  \\\n",
       "0       0  ...         0         0         0         0         0         0   \n",
       "1       0  ...         0         0         0         0         0         0   \n",
       "2       0  ...         0         0         0         0         0         0   \n",
       "3       0  ...         0         0         0         0         0         0   \n",
       "4       0  ...         0         0         0         0         0         0   \n",
       "\n",
       "   pixel780  pixel781  pixel782  pixel783  \n",
       "0         0         0         0         0  \n",
       "1         0         0         0         0  \n",
       "2         0         0         0         0  \n",
       "3         0         0         0         0  \n",
       "4         0         0         0         0  \n",
       "\n",
       "[5 rows x 785 columns]"
      ]
     },
     "execution_count": 3,
     "metadata": {},
     "output_type": "execute_result"
    }
   ],
   "source": [
    "# visualisation train_data\n",
    "train_data.head()"
   ]
  },
  {
   "cell_type": "code",
   "execution_count": 4,
   "id": "f2f89f43",
   "metadata": {
    "scrolled": true
   },
   "outputs": [
    {
     "name": "stdout",
     "output_type": "stream",
     "text": [
      "0\n",
      "0\n"
     ]
    }
   ],
   "source": [
    "# nombre de valeurs manquantes dans les 2 datasets\n",
    "print(train_data.isnull().sum().sum())\n",
    "print(test_data.isnull().sum().sum())"
   ]
  },
  {
   "cell_type": "code",
   "execution_count": 5,
   "id": "7aadcd48",
   "metadata": {},
   "outputs": [
    {
     "name": "stdout",
     "output_type": "stream",
     "text": [
      "(42000, 785)\n",
      "(28000, 784)\n"
     ]
    }
   ],
   "source": [
    "# shape des data train et test\n",
    "print(train_data.shape)\n",
    "print(test_data.shape)"
   ]
  },
  {
   "cell_type": "code",
   "execution_count": 7,
   "id": "3e1c6ec7",
   "metadata": {},
   "outputs": [
    {
     "data": {
      "text/plain": [
       "784"
      ]
     },
     "execution_count": 7,
     "metadata": {},
     "output_type": "execute_result"
    }
   ],
   "source": [
    "# chaque image a une taille de 28 x 28 px\n",
    "image_size=28*28\n",
    "image_size"
   ]
  },
  {
   "cell_type": "code",
   "execution_count": 8,
   "id": "37994803",
   "metadata": {},
   "outputs": [
    {
     "data": {
      "text/plain": [
       "0        255\n",
       "1        255\n",
       "2        255\n",
       "3        255\n",
       "4        254\n",
       "        ... \n",
       "41995    255\n",
       "41996    254\n",
       "41997    255\n",
       "41998    255\n",
       "41999    255\n",
       "Length: 42000, dtype: int64"
      ]
     },
     "execution_count": 8,
     "metadata": {},
     "output_type": "execute_result"
    }
   ],
   "source": [
    "# voir la valeur maximum dans le train_data\n",
    "max_values = train_data.max(axis=1)\n",
    "max_values"
   ]
  },
  {
   "cell_type": "code",
   "execution_count": 6,
   "id": "623fd517",
   "metadata": {},
   "outputs": [],
   "source": [
    "# définir X & Y sur le train_data\n",
    "X = train_data.drop('label', axis=1)\n",
    "y = train_data['label']"
   ]
  },
  {
   "cell_type": "code",
   "execution_count": 12,
   "id": "5297507a",
   "metadata": {},
   "outputs": [
    {
     "data": {
      "text/html": [
       "<div>\n",
       "<style scoped>\n",
       "    .dataframe tbody tr th:only-of-type {\n",
       "        vertical-align: middle;\n",
       "    }\n",
       "\n",
       "    .dataframe tbody tr th {\n",
       "        vertical-align: top;\n",
       "    }\n",
       "\n",
       "    .dataframe thead th {\n",
       "        text-align: right;\n",
       "    }\n",
       "</style>\n",
       "<table border=\"1\" class=\"dataframe\">\n",
       "  <thead>\n",
       "    <tr style=\"text-align: right;\">\n",
       "      <th></th>\n",
       "      <th>pixel0</th>\n",
       "      <th>pixel1</th>\n",
       "      <th>pixel2</th>\n",
       "      <th>pixel3</th>\n",
       "      <th>pixel4</th>\n",
       "      <th>pixel5</th>\n",
       "      <th>pixel6</th>\n",
       "      <th>pixel7</th>\n",
       "      <th>pixel8</th>\n",
       "      <th>pixel9</th>\n",
       "      <th>...</th>\n",
       "      <th>pixel774</th>\n",
       "      <th>pixel775</th>\n",
       "      <th>pixel776</th>\n",
       "      <th>pixel777</th>\n",
       "      <th>pixel778</th>\n",
       "      <th>pixel779</th>\n",
       "      <th>pixel780</th>\n",
       "      <th>pixel781</th>\n",
       "      <th>pixel782</th>\n",
       "      <th>pixel783</th>\n",
       "    </tr>\n",
       "  </thead>\n",
       "  <tbody>\n",
       "    <tr>\n",
       "      <th>count</th>\n",
       "      <td>42000.0</td>\n",
       "      <td>42000.0</td>\n",
       "      <td>42000.0</td>\n",
       "      <td>42000.0</td>\n",
       "      <td>42000.0</td>\n",
       "      <td>42000.0</td>\n",
       "      <td>42000.0</td>\n",
       "      <td>42000.0</td>\n",
       "      <td>42000.0</td>\n",
       "      <td>42000.0</td>\n",
       "      <td>...</td>\n",
       "      <td>42000.000000</td>\n",
       "      <td>42000.000000</td>\n",
       "      <td>42000.000000</td>\n",
       "      <td>42000.00000</td>\n",
       "      <td>42000.000000</td>\n",
       "      <td>42000.000000</td>\n",
       "      <td>42000.0</td>\n",
       "      <td>42000.0</td>\n",
       "      <td>42000.0</td>\n",
       "      <td>42000.0</td>\n",
       "    </tr>\n",
       "    <tr>\n",
       "      <th>mean</th>\n",
       "      <td>0.0</td>\n",
       "      <td>0.0</td>\n",
       "      <td>0.0</td>\n",
       "      <td>0.0</td>\n",
       "      <td>0.0</td>\n",
       "      <td>0.0</td>\n",
       "      <td>0.0</td>\n",
       "      <td>0.0</td>\n",
       "      <td>0.0</td>\n",
       "      <td>0.0</td>\n",
       "      <td>...</td>\n",
       "      <td>0.219286</td>\n",
       "      <td>0.117095</td>\n",
       "      <td>0.059024</td>\n",
       "      <td>0.02019</td>\n",
       "      <td>0.017238</td>\n",
       "      <td>0.002857</td>\n",
       "      <td>0.0</td>\n",
       "      <td>0.0</td>\n",
       "      <td>0.0</td>\n",
       "      <td>0.0</td>\n",
       "    </tr>\n",
       "    <tr>\n",
       "      <th>std</th>\n",
       "      <td>0.0</td>\n",
       "      <td>0.0</td>\n",
       "      <td>0.0</td>\n",
       "      <td>0.0</td>\n",
       "      <td>0.0</td>\n",
       "      <td>0.0</td>\n",
       "      <td>0.0</td>\n",
       "      <td>0.0</td>\n",
       "      <td>0.0</td>\n",
       "      <td>0.0</td>\n",
       "      <td>...</td>\n",
       "      <td>6.312890</td>\n",
       "      <td>4.633819</td>\n",
       "      <td>3.274488</td>\n",
       "      <td>1.75987</td>\n",
       "      <td>1.894498</td>\n",
       "      <td>0.414264</td>\n",
       "      <td>0.0</td>\n",
       "      <td>0.0</td>\n",
       "      <td>0.0</td>\n",
       "      <td>0.0</td>\n",
       "    </tr>\n",
       "    <tr>\n",
       "      <th>min</th>\n",
       "      <td>0.0</td>\n",
       "      <td>0.0</td>\n",
       "      <td>0.0</td>\n",
       "      <td>0.0</td>\n",
       "      <td>0.0</td>\n",
       "      <td>0.0</td>\n",
       "      <td>0.0</td>\n",
       "      <td>0.0</td>\n",
       "      <td>0.0</td>\n",
       "      <td>0.0</td>\n",
       "      <td>...</td>\n",
       "      <td>0.000000</td>\n",
       "      <td>0.000000</td>\n",
       "      <td>0.000000</td>\n",
       "      <td>0.00000</td>\n",
       "      <td>0.000000</td>\n",
       "      <td>0.000000</td>\n",
       "      <td>0.0</td>\n",
       "      <td>0.0</td>\n",
       "      <td>0.0</td>\n",
       "      <td>0.0</td>\n",
       "    </tr>\n",
       "    <tr>\n",
       "      <th>25%</th>\n",
       "      <td>0.0</td>\n",
       "      <td>0.0</td>\n",
       "      <td>0.0</td>\n",
       "      <td>0.0</td>\n",
       "      <td>0.0</td>\n",
       "      <td>0.0</td>\n",
       "      <td>0.0</td>\n",
       "      <td>0.0</td>\n",
       "      <td>0.0</td>\n",
       "      <td>0.0</td>\n",
       "      <td>...</td>\n",
       "      <td>0.000000</td>\n",
       "      <td>0.000000</td>\n",
       "      <td>0.000000</td>\n",
       "      <td>0.00000</td>\n",
       "      <td>0.000000</td>\n",
       "      <td>0.000000</td>\n",
       "      <td>0.0</td>\n",
       "      <td>0.0</td>\n",
       "      <td>0.0</td>\n",
       "      <td>0.0</td>\n",
       "    </tr>\n",
       "    <tr>\n",
       "      <th>50%</th>\n",
       "      <td>0.0</td>\n",
       "      <td>0.0</td>\n",
       "      <td>0.0</td>\n",
       "      <td>0.0</td>\n",
       "      <td>0.0</td>\n",
       "      <td>0.0</td>\n",
       "      <td>0.0</td>\n",
       "      <td>0.0</td>\n",
       "      <td>0.0</td>\n",
       "      <td>0.0</td>\n",
       "      <td>...</td>\n",
       "      <td>0.000000</td>\n",
       "      <td>0.000000</td>\n",
       "      <td>0.000000</td>\n",
       "      <td>0.00000</td>\n",
       "      <td>0.000000</td>\n",
       "      <td>0.000000</td>\n",
       "      <td>0.0</td>\n",
       "      <td>0.0</td>\n",
       "      <td>0.0</td>\n",
       "      <td>0.0</td>\n",
       "    </tr>\n",
       "    <tr>\n",
       "      <th>75%</th>\n",
       "      <td>0.0</td>\n",
       "      <td>0.0</td>\n",
       "      <td>0.0</td>\n",
       "      <td>0.0</td>\n",
       "      <td>0.0</td>\n",
       "      <td>0.0</td>\n",
       "      <td>0.0</td>\n",
       "      <td>0.0</td>\n",
       "      <td>0.0</td>\n",
       "      <td>0.0</td>\n",
       "      <td>...</td>\n",
       "      <td>0.000000</td>\n",
       "      <td>0.000000</td>\n",
       "      <td>0.000000</td>\n",
       "      <td>0.00000</td>\n",
       "      <td>0.000000</td>\n",
       "      <td>0.000000</td>\n",
       "      <td>0.0</td>\n",
       "      <td>0.0</td>\n",
       "      <td>0.0</td>\n",
       "      <td>0.0</td>\n",
       "    </tr>\n",
       "    <tr>\n",
       "      <th>max</th>\n",
       "      <td>0.0</td>\n",
       "      <td>0.0</td>\n",
       "      <td>0.0</td>\n",
       "      <td>0.0</td>\n",
       "      <td>0.0</td>\n",
       "      <td>0.0</td>\n",
       "      <td>0.0</td>\n",
       "      <td>0.0</td>\n",
       "      <td>0.0</td>\n",
       "      <td>0.0</td>\n",
       "      <td>...</td>\n",
       "      <td>254.000000</td>\n",
       "      <td>254.000000</td>\n",
       "      <td>253.000000</td>\n",
       "      <td>253.00000</td>\n",
       "      <td>254.000000</td>\n",
       "      <td>62.000000</td>\n",
       "      <td>0.0</td>\n",
       "      <td>0.0</td>\n",
       "      <td>0.0</td>\n",
       "      <td>0.0</td>\n",
       "    </tr>\n",
       "  </tbody>\n",
       "</table>\n",
       "<p>8 rows × 784 columns</p>\n",
       "</div>"
      ],
      "text/plain": [
       "        pixel0   pixel1   pixel2   pixel3   pixel4   pixel5   pixel6   pixel7  \\\n",
       "count  42000.0  42000.0  42000.0  42000.0  42000.0  42000.0  42000.0  42000.0   \n",
       "mean       0.0      0.0      0.0      0.0      0.0      0.0      0.0      0.0   \n",
       "std        0.0      0.0      0.0      0.0      0.0      0.0      0.0      0.0   \n",
       "min        0.0      0.0      0.0      0.0      0.0      0.0      0.0      0.0   \n",
       "25%        0.0      0.0      0.0      0.0      0.0      0.0      0.0      0.0   \n",
       "50%        0.0      0.0      0.0      0.0      0.0      0.0      0.0      0.0   \n",
       "75%        0.0      0.0      0.0      0.0      0.0      0.0      0.0      0.0   \n",
       "max        0.0      0.0      0.0      0.0      0.0      0.0      0.0      0.0   \n",
       "\n",
       "        pixel8   pixel9  ...      pixel774      pixel775      pixel776  \\\n",
       "count  42000.0  42000.0  ...  42000.000000  42000.000000  42000.000000   \n",
       "mean       0.0      0.0  ...      0.219286      0.117095      0.059024   \n",
       "std        0.0      0.0  ...      6.312890      4.633819      3.274488   \n",
       "min        0.0      0.0  ...      0.000000      0.000000      0.000000   \n",
       "25%        0.0      0.0  ...      0.000000      0.000000      0.000000   \n",
       "50%        0.0      0.0  ...      0.000000      0.000000      0.000000   \n",
       "75%        0.0      0.0  ...      0.000000      0.000000      0.000000   \n",
       "max        0.0      0.0  ...    254.000000    254.000000    253.000000   \n",
       "\n",
       "          pixel777      pixel778      pixel779  pixel780  pixel781  pixel782  \\\n",
       "count  42000.00000  42000.000000  42000.000000   42000.0   42000.0   42000.0   \n",
       "mean       0.02019      0.017238      0.002857       0.0       0.0       0.0   \n",
       "std        1.75987      1.894498      0.414264       0.0       0.0       0.0   \n",
       "min        0.00000      0.000000      0.000000       0.0       0.0       0.0   \n",
       "25%        0.00000      0.000000      0.000000       0.0       0.0       0.0   \n",
       "50%        0.00000      0.000000      0.000000       0.0       0.0       0.0   \n",
       "75%        0.00000      0.000000      0.000000       0.0       0.0       0.0   \n",
       "max      253.00000    254.000000     62.000000       0.0       0.0       0.0   \n",
       "\n",
       "       pixel783  \n",
       "count   42000.0  \n",
       "mean        0.0  \n",
       "std         0.0  \n",
       "min         0.0  \n",
       "25%         0.0  \n",
       "50%         0.0  \n",
       "75%         0.0  \n",
       "max         0.0  \n",
       "\n",
       "[8 rows x 784 columns]"
      ]
     },
     "execution_count": 12,
     "metadata": {},
     "output_type": "execute_result"
    }
   ],
   "source": [
    "X.describe()"
   ]
  },
  {
   "cell_type": "code",
   "execution_count": 7,
   "id": "fd2cb425",
   "metadata": {},
   "outputs": [],
   "source": [
    "# Fonction pour afficher les données matricielles sous forme d'images\n",
    "def visu_img(X, y, n, label=False):\n",
    "    plt.figure(figsize=(20,2))\n",
    "    for i in range(1):\n",
    "        ax = plt.subplot(1, n, i+1)\n",
    "        plt.imshow(X.values[i].reshape(28,28))\n",
    "        if label:\n",
    "            plt.title(\"Numero: {}\".format(y[i]))\n",
    "        ax.get_xaxis().set_visible(False)\n",
    "        ax.get_yaxis().set_visible(False)\n",
    "    plt.show()"
   ]
  },
  {
   "cell_type": "code",
   "execution_count": 8,
   "id": "33b28a86",
   "metadata": {},
   "outputs": [
    {
     "data": {
      "image/png": "[encoded data removed]",
      "text/plain": [
       "<Figure size 1440x144 with 1 Axes>"
      ]
     },
     "metadata": {
      "needs_background": "light"
     },
     "output_type": "display_data"
    }
   ],
   "source": [
    "visu_img(X, y, n=1, label=False)"
   ]
  },
  {
   "cell_type": "markdown",
   "id": "bb584d9d",
   "metadata": {},
   "source": [
    "# Preprocessing"
   ]
  },
  {
   "cell_type": "markdown",
   "id": "63ee471b",
   "metadata": {},
   "source": [
    "<b>Préparation des données</b><br><br>\n",
    "Chacun des pixels a une valeur de 0 à 255, je vais normaliser les valeurs de 0 à 1, et reshape les données (784 colonnes) en matrice de 28 x 28 (taille des images en px)."
   ]
  },
  {
   "cell_type": "code",
   "execution_count": 9,
   "id": "4b52d087",
   "metadata": {},
   "outputs": [],
   "source": [
    "# convertir les vecteurs en matrice de classe binaire (num_classes = 10 / les chiffres de 0 à 9)\n",
    "y = to_categorical(y, num_classes=10)"
   ]
  },
  {
   "cell_type": "code",
   "execution_count": 10,
   "id": "340774db",
   "metadata": {},
   "outputs": [],
   "source": [
    "# train and test split\n",
    "X_train, X_test ,y_train, y_test = train_test_split(X, y, test_size=0.3)"
   ]
  },
  {
   "cell_type": "code",
   "execution_count": 11,
   "id": "e2b00526",
   "metadata": {},
   "outputs": [],
   "source": [
    "# normalisation des données\n",
    "X_train, X_test = X_train / 255.0, X_test / 255.0"
   ]
  },
  {
   "cell_type": "code",
   "execution_count": 12,
   "id": "147eaa19",
   "metadata": {},
   "outputs": [],
   "source": [
    "# reshape 28 x 28\n",
    "X_train, X_test= X_train.values.reshape(-1,28,28,1), X_test.values.reshape(-1,28,28, 1)"
   ]
  },
  {
   "cell_type": "code",
   "execution_count": 13,
   "id": "b9d2afdd",
   "metadata": {},
   "outputs": [
    {
     "name": "stdout",
     "output_type": "stream",
     "text": [
      "(29400, 28, 28, 1)\n",
      "(12600, 28, 28, 1)\n"
     ]
    }
   ],
   "source": [
    "# shape des data train et test\n",
    "print(X_train.shape)\n",
    "print(X_test.shape)"
   ]
  },
  {
   "cell_type": "markdown",
   "id": "20df70e8",
   "metadata": {},
   "source": [
    "# Modèle CNN"
   ]
  },
  {
   "cell_type": "markdown",
   "id": "3cb30421",
   "metadata": {},
   "source": [
    "- Hidden Layer: 4\n",
    "- Types de layers : Con2D, MaxPooling2D, Flatten, Dense, Dropout\n",
    "- Nodes: 142\n",
    "- Fonctions d'activation : ReLU / Softmax en sortie\n",
    "- Optimizer: RAdam\n",
    "- Loss Function: Categorical crossentropy\n",
    "- Epochs: 20\n",
    "- Validation split : 0.3\n",
    "- Early stopping : patience = 2"
   ]
  },
  {
   "cell_type": "code",
   "execution_count": 14,
   "id": "fd3e9443",
   "metadata": {},
   "outputs": [],
   "source": [
    "# early stopping (apply on .fit)\n",
    "early_stopping_monitor=EarlyStopping(patience=2, restore_best_weights=True)"
   ]
  },
  {
   "cell_type": "code",
   "execution_count": 15,
   "id": "65220670",
   "metadata": {},
   "outputs": [],
   "source": [
    "# model dl\n",
    "model = Sequential()\n",
    "\n",
    "# Conv2D : analyse des images et détection d'un ensemble de features\n",
    "model.add(Conv2D(128, kernel_size=(3,3), input_shape=(28, 28, 1), padding='same', activation='relu'))\n",
    "\n",
    "# MaxPooling2D : réduit la taille des images tout en préservant leurs caractéristiques\n",
    "model.add(MaxPooling2D(pool_size=(2, 2), strides=(2,2)))\n",
    "\n",
    "# Flatten : conversion des matrices 3D en vecteur 1D\n",
    "model.add(Flatten()) \n",
    "\n",
    "model.add(Dense(64, activation='relu'))\n",
    "model.add(Dropout(0.2))\n",
    "model.add(Dense(10,activation='softmax'))"
   ]
  },
  {
   "cell_type": "code",
   "execution_count": 16,
   "id": "1c205773",
   "metadata": {},
   "outputs": [
    {
     "name": "stdout",
     "output_type": "stream",
     "text": [
      "Model: \"sequential\"\n",
      "_________________________________________________________________\n",
      "Layer (type)                 Output Shape              Param #   \n",
      "=================================================================\n",
      "conv2d (Conv2D)              (None, 28, 28, 128)       1280      \n",
      "_________________________________________________________________\n",
      "max_pooling2d (MaxPooling2D) (None, 14, 14, 128)       0         \n",
      "_________________________________________________________________\n",
      "flatten (Flatten)            (None, 25088)             0         \n",
      "_________________________________________________________________\n",
      "dense (Dense)                (None, 64)                1605696   \n",
      "_________________________________________________________________\n",
      "dropout (Dropout)            (None, 64)                0         \n",
      "_________________________________________________________________\n",
      "dense_1 (Dense)              (None, 10)                650       \n",
      "=================================================================\n",
      "Total params: 1,607,626\n",
      "Trainable params: 1,607,626\n",
      "Non-trainable params: 0\n",
      "_________________________________________________________________\n"
     ]
    }
   ],
   "source": [
    "model.summary()"
   ]
  },
  {
   "cell_type": "code",
   "execution_count": 20,
   "id": "a9b2e5cd",
   "metadata": {},
   "outputs": [
    {
     "name": "stdout",
     "output_type": "stream",
     "text": [
      "Epoch 1/20\n",
      "644/644 [==============================] - 38s 57ms/step - loss: 0.3028 - accuracy: 0.9096 - val_loss: 0.1193 - val_accuracy: 0.9642\n",
      "Epoch 2/20\n",
      "644/644 [==============================] - 35s 55ms/step - loss: 0.1069 - accuracy: 0.9674 - val_loss: 0.0780 - val_accuracy: 0.9770\n",
      "Epoch 3/20\n",
      "644/644 [==============================] - 37s 57ms/step - loss: 0.0727 - accuracy: 0.9771 - val_loss: 0.0742 - val_accuracy: 0.9768\n",
      "Epoch 4/20\n",
      "644/644 [==============================] - 36s 56ms/step - loss: 0.0527 - accuracy: 0.9831 - val_loss: 0.0668 - val_accuracy: 0.9806\n",
      "Epoch 5/20\n",
      "644/644 [==============================] - 38s 59ms/step - loss: 0.0442 - accuracy: 0.9855 - val_loss: 0.0668 - val_accuracy: 0.9797\n",
      "Epoch 6/20\n",
      "644/644 [==============================] - 37s 58ms/step - loss: 0.0346 - accuracy: 0.9891 - val_loss: 0.0686 - val_accuracy: 0.9799\n"
     ]
    }
   ],
   "source": [
    "model.compile(optimizer='adam',loss='categorical_crossentropy',metrics='accuracy')\n",
    "\n",
    "history = model.fit(X_train, y_train, epochs=20, batch_size=32, validation_split=0.3, callbacks=[early_stopping_monitor])"
   ]
  },
  {
   "cell_type": "code",
   "execution_count": 21,
   "id": "9f4283e9",
   "metadata": {},
   "outputs": [],
   "source": [
    "y_pred = model.predict(X_test)\n",
    "y_pred = np.argmax(y_pred, axis=1)\n",
    "y_test = np.argmax(y_test, axis=1)"
   ]
  },
  {
   "cell_type": "code",
   "execution_count": 22,
   "id": "a6d2804b",
   "metadata": {},
   "outputs": [
    {
     "name": "stdout",
     "output_type": "stream",
     "text": [
      "              precision    recall  f1-score   support\n",
      "\n",
      "           0       0.98      1.00      0.99      1242\n",
      "           1       0.99      0.99      0.99      1452\n",
      "           2       0.98      0.97      0.97      1271\n",
      "           3       0.99      0.96      0.98      1244\n",
      "           4       0.98      0.97      0.97      1215\n",
      "           5       0.97      0.98      0.97      1138\n",
      "           6       0.99      0.98      0.98      1235\n",
      "           7       0.98      0.98      0.98      1278\n",
      "           8       0.95      0.98      0.97      1230\n",
      "           9       0.97      0.98      0.97      1295\n",
      "\n",
      "    accuracy                           0.98     12600\n",
      "   macro avg       0.98      0.98      0.98     12600\n",
      "weighted avg       0.98      0.98      0.98     12600\n",
      "\n"
     ]
    }
   ],
   "source": [
    "# score\n",
    "print(classification_report(y_test, y_pred))"
   ]
  },
  {
   "cell_type": "code",
   "execution_count": 23,
   "id": "b01c2d39",
   "metadata": {},
   "outputs": [
    {
     "data": {
      "text/plain": [
       "Text(0.5, 15.0, 'Predicted label')"
      ]
     },
     "execution_count": 23,
     "metadata": {},
     "output_type": "execute_result"
    },
    {
     "data": {
      "image/png": "[encoded data removed]",
      "text/plain": [
       "<Figure size 432x288 with 2 Axes>"
      ]
     },
     "metadata": {
      "needs_background": "light"
     },
     "output_type": "display_data"
    }
   ],
   "source": [
    "cm = confusion_matrix(y_pred, y_test)\n",
    "\n",
    "p = sns.heatmap(pd.DataFrame(cm), annot=True, cmap=\"Blues\" ,fmt='g')\n",
    "plt.title('Confusion matrix 0 > 9', y=1.1)\n",
    "plt.ylabel('Actual label')\n",
    "plt.xlabel('Predicted label')"
   ]
  },
  {
   "cell_type": "code",
   "execution_count": 24,
   "id": "a32ec99a",
   "metadata": {},
   "outputs": [
    {
     "data": {
      "image/png": "[encoded data removed]",
      "text/plain": [
       "<Figure size 1440x504 with 2 Axes>"
      ]
     },
     "metadata": {
      "needs_background": "light"
     },
     "output_type": "display_data"
    }
   ],
   "source": [
    "plt.style.use('bmh')\n",
    "%matplotlib inline\n",
    "\n",
    "f = plt.figure(figsize=(20,7))\n",
    "\n",
    "# plot accuracy\n",
    "f.add_subplot(121)\n",
    "\n",
    "plt.plot(history.epoch,history.history['accuracy'],label = \"accuracy\") # Accuracy curve for training set\n",
    "plt.plot(history.epoch,history.history['val_accuracy'],label = \"val_accuracy\") # Accuracy curve for validation set\n",
    "\n",
    "plt.title(\"Accuracy Curve\",fontsize=18)\n",
    "plt.xlabel(\"Epochs\",fontsize=15)\n",
    "plt.ylabel(\"Accuracy\",fontsize=15)\n",
    "plt.grid(alpha=0.3)\n",
    "plt.legend()\n",
    "\n",
    "# plot loss\n",
    "f.add_subplot(122)\n",
    "\n",
    "plt.plot(history.epoch,history.history['loss'],label=\"loss\") # Loss curve for training set\n",
    "plt.plot(history.epoch,history.history['val_loss'],label=\"val_loss\") # Loss curve for validation set\n",
    "\n",
    "plt.title(\"Loss Curve\",fontsize=18)\n",
    "plt.xlabel(\"Epochs\",fontsize=15)\n",
    "plt.ylabel(\"Loss\",fontsize=15)\n",
    "plt.grid(alpha=0.3)\n",
    "plt.legend()\n",
    "\n",
    "plt.show()"
   ]
  },
  {
   "cell_type": "code",
   "execution_count": 25,
   "id": "1b20ef10",
   "metadata": {},
   "outputs": [
    {
     "data": {
      "image/png": "[encoded data removed]",
      "text/plain": [
       "<Figure size 1440x288 with 10 Axes>"
      ]
     },
     "metadata": {
      "needs_background": "light"
     },
     "output_type": "display_data"
    }
   ],
   "source": [
    "# predictions\n",
    "fig, axes = plt.subplots(ncols=10, sharex=False,\n",
    "                         sharey=True, figsize=(20, 4))\n",
    "for i in range(10):\n",
    "    axes[i].set_title(y_pred[i])\n",
    "    axes[i].imshow(X_test[i], cmap='gray')\n",
    "    axes[i].get_xaxis().set_visible(False)\n",
    "    axes[i].get_yaxis().set_visible(False)\n",
    "plt.show()"
   ]
  },
  {
   "cell_type": "code",
   "execution_count": 46,
   "id": "65965032",
   "metadata": {},
   "outputs": [],
   "source": [
    "from tensorflow.keras.models import save_model, load_model"
   ]
  },
  {
   "cell_type": "code",
   "execution_count": 47,
   "id": "db7ea814",
   "metadata": {},
   "outputs": [],
   "source": [
    "save_model(model,'model.h5')"
   ]
  }
 ],
 "metadata": {
  "kernelspec": {
   "display_name": "Python 3 (ipykernel)",
   "language": "python",
   "name": "python3"
  },
  "language_info": {
   "codemirror_mode": {
    "name": "ipython",
    "version": 3
   },
   "file_extension": ".py",
   "mimetype": "text/x-python",
   "name": "python",
   "nbconvert_exporter": "python",
   "pygments_lexer": "ipython3",
   "version": "3.9.5"
  }
 },
 "nbformat": 4,
 "nbformat_minor": 5
}
